{
 "cells": [
  {
   "cell_type": "markdown",
   "id": "2482e52e-dc73-4a9d-a36f-3975afec8cb6",
   "metadata": {},
   "source": [
    " # Creating a Password Generator\n",
    "\n",
    " ### This project creates a code that helps a user to generate a strong password which will enhance security and prevent unauthorised assess."
   ]
  },
  {
   "cell_type": "code",
   "execution_count": 1,
   "id": "29374c3e-4271-4738-99d7-233d9377dfbd",
   "metadata": {},
   "outputs": [
    {
     "name": "stdout",
     "output_type": "stream",
     "text": [
      "Password Generator\n",
      "------------------\n"
     ]
    },
    {
     "name": "stdin",
     "output_type": "stream",
     "text": [
      "Enter password length (default=18):  10\n",
      "Include uppercase letters? (y/n, default=y):  y\n",
      "Include numbers? (y/n, default=y):  y\n",
      "Include special characters? (y/n, default=y):  y\n",
      "Minimum unique characters (default=8):  3\n"
     ]
    },
    {
     "name": "stdout",
     "output_type": "stream",
     "text": [
      "Generated Password :  a&W>mY0hRA\n"
     ]
    }
   ],
   "source": [
    "\n",
    "# Import necessary modules\n",
    "import random\n",
    "import string\n",
    "\n",
    "# Define PasswordGenerator class\n",
    "class PasswordGenerator:\n",
    "    def __init__(self, length=18, use_uppercase=True, use_numbers=True, use_special_chars=True):\n",
    "        \"\"\"\n",
    "        Initialize PasswordGenerator.\n",
    "\n",
    "        Args:\n",
    "            length (int): Password length (default=12)\n",
    "            use_uppercase (bool): Include uppercase letters (default=True)\n",
    "            use_numbers (bool): Include numbers (default=True)\n",
    "            use_special_chars (bool): Include special characters (default=True)\n",
    "        \"\"\"\n",
    "        self.length = length\n",
    "        self.use_uppercase = use_uppercase\n",
    "        self.use_numbers = use_numbers\n",
    "        self.use_special_chars = use_special_chars\n",
    "\n",
    "    def generate_password(self):\n",
    "        \"\"\"\n",
    "        Generate password based on specified criteria.\n",
    "\n",
    "        Returns:\n",
    "            str: Generated password\n",
    "        \"\"\"\n",
    "        # Define character sets\n",
    "        chars = string.ascii_lowercase\n",
    "        if self.use_uppercase:\n",
    "            chars += string.ascii_uppercase\n",
    "        if self.use_numbers:\n",
    "            chars += string.digits\n",
    "        if self.use_special_chars:\n",
    "            chars += string.punctuation\n",
    "\n",
    "        # Generate password\n",
    "        password = ''.join(random.choice(chars) for _ in range(self.length))\n",
    "        return password\n",
    "\n",
    "# Define AdvancedPasswordGenerator class, inheriting from PasswordGenerator\n",
    "class AdvancedPasswordGenerator(PasswordGenerator):\n",
    "    def __init__(self, length=18, use_uppercase=True, use_numbers=True, use_special_chars=True, min_unique_chars=8):\n",
    "        \"\"\"\n",
    "        Initialize AdvancedPasswordGenerator.\n",
    "\n",
    "        Args:\n",
    "            length (int): Password length (default=12)\n",
    "            use_uppercase (bool): Include uppercase letters (default=True)\n",
    "            use_numbers (bool): Include numbers (default=True)\n",
    "            use_special_chars (bool): Include special characters (default=True)\n",
    "            min_unique_chars (int): Minimum unique characters (default=8)\n",
    "        \"\"\"\n",
    "        super().__init__(length, use_uppercase, use_numbers, use_special_chars)\n",
    "        self.min_unique_chars = min_unique_chars\n",
    "\n",
    "    def generate_password(self):\n",
    "        \"\"\"\n",
    "        Generate advanced password ensuring minimum unique characters.\n",
    "\n",
    "        Returns:\n",
    "            str: Generated password\n",
    "        \"\"\"\n",
    "        # Generate password using PasswordGenerator\n",
    "        password = super().generate_password()\n",
    "        \n",
    "        # Ensure minimum unique characters\n",
    "        while len(set(password)) < self.min_unique_chars:\n",
    "            password = super().generate_password()\n",
    "        return password\n",
    "\n",
    "# Main function\n",
    "def main():\n",
    "    # Print password generator header\n",
    "    print(\"Password Generator\")\n",
    "    print(\"------------------\")\n",
    "\n",
    "    # Get password length from user\n",
    "    length = int(input(\"Enter password length (default=18): \") or 12)\n",
    "\n",
    "    # Get uppercase letters preference\n",
    "    use_uppercase = input(\"Include uppercase letters? (y/n, default=y): \").lower() != 'n'\n",
    "\n",
    "    # Get numbers preference\n",
    "    use_numbers = input(\"Include numbers? (y/n, default=y): \").lower() != 'n'\n",
    "\n",
    "    # Get special characters preference\n",
    "    use_special_chars = input(\"Include special characters? (y/n, default=y): \").lower() != 'n'\n",
    "\n",
    "    # Get minimum unique characters\n",
    "    min_unique_chars = int(input(\"Minimum unique characters (default=8): \") or 8)\n",
    "\n",
    "    # Create AdvancedPasswordGenerator instance\n",
    "    generator = AdvancedPasswordGenerator(length, use_uppercase, use_numbers, use_special_chars, min_unique_chars)\n",
    "\n",
    "    # Generate password\n",
    "    password = generator.generate_password()\n",
    "\n",
    "    # Print generated password\n",
    "    print(\"Generated Password : \", password)\n",
    "\n",
    "# Run main function if script is executed directly\n",
    "if __name__ == \"__main__\":\n",
    "    main()\n"
   ]
  },
  {
   "cell_type": "code",
   "execution_count": null,
   "id": "feab9ad3-2518-4e84-9134-71babd82ba19",
   "metadata": {},
   "outputs": [],
   "source": []
  }
 ],
 "metadata": {
  "kernelspec": {
   "display_name": "Python 3 (ipykernel)",
   "language": "python",
   "name": "python3"
  },
  "language_info": {
   "codemirror_mode": {
    "name": "ipython",
    "version": 3
   },
   "file_extension": ".py",
   "mimetype": "text/x-python",
   "name": "python",
   "nbconvert_exporter": "python",
   "pygments_lexer": "ipython3",
   "version": "3.12.4"
  }
 },
 "nbformat": 4,
 "nbformat_minor": 5
}
